{
 "cells": [
  {
   "cell_type": "markdown",
   "metadata": {},
   "source": [
    "### Do some basic data sanitization using pandas, save data into CSV for sql lite database\n",
    "\n",
    "1. Given `codefoobackend_cfgames.csv` was inspected for any irregularities. There did not seem to be any clear things (e.g. empty cells that should not be empty or if they were empty, I am not sure how I would have filled in data). If I knew more context (e.g. franchise fields must always be filled) about the data, I would try to fill them in (e.g. insert creators and publishers for each media item).\n",
    "3. `STORING`: I chose SQLlite because it is small, light-weight and easy to use. Plus the given dataset was small. If it was bigger, I may have used MySQL or something else more robust.\n",
    "3. `SANITIZING`: I sanitized using pandas library from Python since it was easier to manipulate. Might investigate the data more closely given more time using some helpful hints here: https://support.microsoft.com/en-us/office/top-ten-ways-to-clean-your-data-2844b620-677c-47a7-ac3e-c2e157d1db19. But from my glance initially, there did not seem anything glaringly wrong with the dataset.\n",
    "4. `NORMALIZATION`: I think the right theoretical way to build the data base is to split an entity or object into its own table (e.g. 1 table for each \"thing\"). I started normalizing the data to make it do that. But for practicality, I created some tables just for easy usage (e.g. movies table). This would avoid costly joins (if the dataset was much bigger).\n",
    "5. `INDEXING`: Once the data was in SQLlite database, I tried to index on what I think the most common queries will be for API which are: `short_name` and `name`. Maybe apply some considerations from links like this in the future: https://dataschool.com/sql-optimization/how-indexing-works/ or https://medium.com/the-software-firehose/how-to-choose-a-table-index-for-your-sql-database-d47715a35f34 \n"
   ]
  },
  {
   "cell_type": "code",
   "execution_count": 2,
   "metadata": {},
   "outputs": [],
   "source": [
    "import pandas as pd\n",
    "data = pd.read_csv('codefoobackend_cfgames.csv')"
   ]
  },
  {
   "cell_type": "code",
   "execution_count": 40,
   "metadata": {},
   "outputs": [],
   "source": [
    "reviews = data[['id', 'name', 'short_name', 'created_at', 'updated_at', 'review_url','review_score']]\n",
    "media = data[['id', 'name', 'short_description']]\n",
    "media_metadata = data[['id', 'media_type', 'short_name', 'long_description', 'slug', 'genres', 'created_by', 'published_by', 'franchises', 'regions']]\n",
    "\n",
    "# Views to make for easy access:\n",
    "view_columns_to_keep = ['id', 'name', 'media_type', 'genres', 'created_by', 'published_by', 'short_description', 'franchises', 'regions']\n",
    "preview = media.merge(media_metadata, left_on ='id', right_on='id')[view_columns_to_keep]\n",
    "# Specific Views\n",
    "movies = preview[preview['media_type'] == 'Movie']\n",
    "games = preview[preview['media_type'] == 'Game']\n",
    "comics = preview[preview['media_type'] == 'Comic']\n",
    "shows = preview[preview['media_type'] == 'Show']\n",
    "\n",
    "# Views:\n",
    "views = {\"movies\": movies, \"game\": games, \"comic\": comics, \"shows\": shows}\n",
    "tables = {\"reviews\": reviews, \"media\": media, \"media_meta_data\": media_metadata}\n",
    "\n",
    "for file_name in views:\n",
    "    df = views[file_name]\n",
    "    df.to_csv(\"raw_csv_files/\" + file_name + \".csv\", index=False)\n",
    "    \n",
    "for file_name in tables:\n",
    "    df = tables[file_name]\n",
    "    df.to_csv(\"raw_csv_files/\" + file_name + \".csv\", index=False)\n",
    "    "
   ]
  },
  {
   "cell_type": "markdown",
   "metadata": {},
   "source": [
    "### Load data into a SQLlite database using:\n",
    "\n",
    "1. .import FILE TABLE (https://www.sqlitetutorial.net/sqlite-import-csv/)\n",
    "\n",
    "    Example SQL QUERY \n",
    "    ```\n",
    "        CREATE TABLE IF NOT EXISTS \"comics\"(\n",
    "        \"id\" TEXT,\n",
    "        \"name\" TEXT,\n",
    "        \"media_type\" TEXT,\n",
    "        \"genres\" TEXT,\n",
    "        \"created_by\" TEXT,\n",
    "        \"published_by\" TEXT,\n",
    "        \"short_description\" TEXT,\n",
    "        \"franchises\" TEXT,\n",
    "        \"regions\" TEXT\n",
    "        );\n",
    "        CREATE UNIQUE INDEX id_comics_idx ON comics(id);\n",
    "        CREATE INDEX comics_name_idx ON comics(name);\n",
    "    ```\n",
    "\n",
    "2. I would see a couple of tables in SQLlite as listed below: \n",
    "    ```\n",
    "    comic            games            media_meta_data  reviews        \n",
    "    comics           media            movies           shows \n",
    "    ```\n",
    "3. Indexes Created:\n",
    "    * Create UNIQUE INDEX on all id columns for all tables: `CREATE UNIQUE INDEX id_media_meta_data_idx ON \"media_metadata\"(id);`\n",
    "    * Create Index on name or short name column for all relevant tables: `CREATE INDEX media_meta_data_short_name_idx ON \"media_metadata\"(short_name);`\n",
    "    \n",
    "4. Save the database "
   ]
  }
 ],
 "metadata": {
  "interpreter": {
   "hash": "4c622e4310ac37bad1fb732c8426ef106d18b41a8bde0be9b2ca5ef6266493f8"
  },
  "kernelspec": {
   "display_name": "Python 3.6.8 64-bit ('hw3')",
   "language": "python",
   "name": "python3"
  },
  "language_info": {
   "codemirror_mode": {
    "name": "ipython",
    "version": 3
   },
   "file_extension": ".py",
   "mimetype": "text/x-python",
   "name": "python",
   "nbconvert_exporter": "python",
   "pygments_lexer": "ipython3",
   "version": "3.6.8"
  },
  "orig_nbformat": 4
 },
 "nbformat": 4,
 "nbformat_minor": 2
}
